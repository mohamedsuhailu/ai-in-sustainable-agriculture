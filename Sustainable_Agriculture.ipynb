{
 "cells": [
  {
   "cell_type": "markdown",
   "id": "0ae14b8f",
   "metadata": {},
   "source": [
    "## Data Processing"
   ]
  },
  {
   "cell_type": "code",
   "execution_count": 2,
   "id": "6afe1714",
   "metadata": {},
   "outputs": [],
   "source": [
    "import numpy as np\n",
    "import pandas as pd\n",
    "import seaborn as sns\n",
    "import matplotlib.pyplot as plt"
   ]
  },
  {
   "cell_type": "code",
   "execution_count": 3,
   "id": "7f447425",
   "metadata": {},
   "outputs": [],
   "source": [
    "df = pd.read_csv(\"farmer_advisor_dataset.csv\")"
   ]
  },
  {
   "cell_type": "code",
   "execution_count": 4,
   "id": "b61d8237",
   "metadata": {},
   "outputs": [
    {
     "data": {
      "text/html": [
       "<div>\n",
       "<style scoped>\n",
       "    .dataframe tbody tr th:only-of-type {\n",
       "        vertical-align: middle;\n",
       "    }\n",
       "\n",
       "    .dataframe tbody tr th {\n",
       "        vertical-align: top;\n",
       "    }\n",
       "\n",
       "    .dataframe thead th {\n",
       "        text-align: right;\n",
       "    }\n",
       "</style>\n",
       "<table border=\"1\" class=\"dataframe\">\n",
       "  <thead>\n",
       "    <tr style=\"text-align: right;\">\n",
       "      <th></th>\n",
       "      <th>Farm_ID</th>\n",
       "      <th>Soil_pH</th>\n",
       "      <th>Soil_Moisture</th>\n",
       "      <th>Temperature_C</th>\n",
       "      <th>Rainfall_mm</th>\n",
       "      <th>Crop_Type</th>\n",
       "      <th>Fertilizer_Usage_kg</th>\n",
       "      <th>Pesticide_Usage_kg</th>\n",
       "      <th>Crop_Yield_ton</th>\n",
       "      <th>Sustainability_Score</th>\n",
       "    </tr>\n",
       "  </thead>\n",
       "  <tbody>\n",
       "    <tr>\n",
       "      <th>0</th>\n",
       "      <td>1</td>\n",
       "      <td>7.073643</td>\n",
       "      <td>49.145359</td>\n",
       "      <td>26.668157</td>\n",
       "      <td>227.890912</td>\n",
       "      <td>Wheat</td>\n",
       "      <td>131.692844</td>\n",
       "      <td>2.958215</td>\n",
       "      <td>1.576920</td>\n",
       "      <td>51.913649</td>\n",
       "    </tr>\n",
       "    <tr>\n",
       "      <th>1</th>\n",
       "      <td>2</td>\n",
       "      <td>6.236931</td>\n",
       "      <td>21.496115</td>\n",
       "      <td>29.325342</td>\n",
       "      <td>244.017493</td>\n",
       "      <td>Soybean</td>\n",
       "      <td>136.370492</td>\n",
       "      <td>19.204770</td>\n",
       "      <td>3.824686</td>\n",
       "      <td>47.159077</td>\n",
       "    </tr>\n",
       "    <tr>\n",
       "      <th>2</th>\n",
       "      <td>3</td>\n",
       "      <td>5.922335</td>\n",
       "      <td>19.469042</td>\n",
       "      <td>17.666414</td>\n",
       "      <td>141.110521</td>\n",
       "      <td>Corn</td>\n",
       "      <td>99.725210</td>\n",
       "      <td>11.041066</td>\n",
       "      <td>1.133198</td>\n",
       "      <td>50.148418</td>\n",
       "    </tr>\n",
       "    <tr>\n",
       "      <th>3</th>\n",
       "      <td>4</td>\n",
       "      <td>6.845120</td>\n",
       "      <td>27.974234</td>\n",
       "      <td>17.188722</td>\n",
       "      <td>156.785663</td>\n",
       "      <td>Wheat</td>\n",
       "      <td>194.832396</td>\n",
       "      <td>8.806271</td>\n",
       "      <td>8.870540</td>\n",
       "      <td>89.764557</td>\n",
       "    </tr>\n",
       "    <tr>\n",
       "      <th>4</th>\n",
       "      <td>5</td>\n",
       "      <td>6.934171</td>\n",
       "      <td>33.637679</td>\n",
       "      <td>23.603899</td>\n",
       "      <td>77.859362</td>\n",
       "      <td>Corn</td>\n",
       "      <td>57.271267</td>\n",
       "      <td>3.747553</td>\n",
       "      <td>8.779317</td>\n",
       "      <td>51.033941</td>\n",
       "    </tr>\n",
       "  </tbody>\n",
       "</table>\n",
       "</div>"
      ],
      "text/plain": [
       "   Farm_ID   Soil_pH  Soil_Moisture  Temperature_C  Rainfall_mm Crop_Type  \\\n",
       "0        1  7.073643      49.145359      26.668157   227.890912     Wheat   \n",
       "1        2  6.236931      21.496115      29.325342   244.017493   Soybean   \n",
       "2        3  5.922335      19.469042      17.666414   141.110521      Corn   \n",
       "3        4  6.845120      27.974234      17.188722   156.785663     Wheat   \n",
       "4        5  6.934171      33.637679      23.603899    77.859362      Corn   \n",
       "\n",
       "   Fertilizer_Usage_kg  Pesticide_Usage_kg  Crop_Yield_ton  \\\n",
       "0           131.692844            2.958215        1.576920   \n",
       "1           136.370492           19.204770        3.824686   \n",
       "2            99.725210           11.041066        1.133198   \n",
       "3           194.832396            8.806271        8.870540   \n",
       "4            57.271267            3.747553        8.779317   \n",
       "\n",
       "   Sustainability_Score  \n",
       "0             51.913649  \n",
       "1             47.159077  \n",
       "2             50.148418  \n",
       "3             89.764557  \n",
       "4             51.033941  "
      ]
     },
     "execution_count": 4,
     "metadata": {},
     "output_type": "execute_result"
    }
   ],
   "source": [
    "df.head()"
   ]
  },
  {
   "cell_type": "code",
   "execution_count": 5,
   "id": "05d4eb74",
   "metadata": {},
   "outputs": [
    {
     "data": {
      "text/plain": [
       "(10000, 10)"
      ]
     },
     "execution_count": 5,
     "metadata": {},
     "output_type": "execute_result"
    }
   ],
   "source": [
    "df.shape # IN order to understand the dimensions of the dataset"
   ]
  },
  {
   "cell_type": "code",
   "execution_count": 6,
   "id": "4c040332",
   "metadata": {},
   "outputs": [
    {
     "name": "stdout",
     "output_type": "stream",
     "text": [
      "<class 'pandas.core.frame.DataFrame'>\n",
      "RangeIndex: 10000 entries, 0 to 9999\n",
      "Data columns (total 10 columns):\n",
      " #   Column                Non-Null Count  Dtype  \n",
      "---  ------                --------------  -----  \n",
      " 0   Farm_ID               10000 non-null  int64  \n",
      " 1   Soil_pH               10000 non-null  float64\n",
      " 2   Soil_Moisture         10000 non-null  float64\n",
      " 3   Temperature_C         10000 non-null  float64\n",
      " 4   Rainfall_mm           10000 non-null  float64\n",
      " 5   Crop_Type             10000 non-null  object \n",
      " 6   Fertilizer_Usage_kg   10000 non-null  float64\n",
      " 7   Pesticide_Usage_kg    10000 non-null  float64\n",
      " 8   Crop_Yield_ton        10000 non-null  float64\n",
      " 9   Sustainability_Score  10000 non-null  float64\n",
      "dtypes: float64(8), int64(1), object(1)\n",
      "memory usage: 781.4+ KB\n"
     ]
    }
   ],
   "source": [
    "df.info() #to know what types of data are present"
   ]
  },
  {
   "cell_type": "code",
   "execution_count": 7,
   "id": "081c7a18",
   "metadata": {},
   "outputs": [
    {
     "data": {
      "text/plain": [
       "Farm_ID                 0\n",
       "Soil_pH                 0\n",
       "Soil_Moisture           0\n",
       "Temperature_C           0\n",
       "Rainfall_mm             0\n",
       "Crop_Type               0\n",
       "Fertilizer_Usage_kg     0\n",
       "Pesticide_Usage_kg      0\n",
       "Crop_Yield_ton          0\n",
       "Sustainability_Score    0\n",
       "dtype: int64"
      ]
     },
     "execution_count": 7,
     "metadata": {},
     "output_type": "execute_result"
    }
   ],
   "source": [
    "df.isnull().sum()  # to know how many missing values are present"
   ]
  },
  {
   "cell_type": "code",
   "execution_count": 8,
   "id": "59e9223a",
   "metadata": {},
   "outputs": [
    {
     "data": {
      "text/plain": [
       "np.int64(0)"
      ]
     },
     "execution_count": 8,
     "metadata": {},
     "output_type": "execute_result"
    }
   ],
   "source": [
    "df.duplicated().sum() # to check for duplicate rows"
   ]
  },
  {
   "cell_type": "code",
   "execution_count": 9,
   "id": "f8ad9c9a",
   "metadata": {},
   "outputs": [
    {
     "data": {
      "text/html": [
       "<div>\n",
       "<style scoped>\n",
       "    .dataframe tbody tr th:only-of-type {\n",
       "        vertical-align: middle;\n",
       "    }\n",
       "\n",
       "    .dataframe tbody tr th {\n",
       "        vertical-align: top;\n",
       "    }\n",
       "\n",
       "    .dataframe thead th {\n",
       "        text-align: right;\n",
       "    }\n",
       "</style>\n",
       "<table border=\"1\" class=\"dataframe\">\n",
       "  <thead>\n",
       "    <tr style=\"text-align: right;\">\n",
       "      <th></th>\n",
       "      <th>Farm_ID</th>\n",
       "      <th>Soil_pH</th>\n",
       "      <th>Soil_Moisture</th>\n",
       "      <th>Temperature_C</th>\n",
       "      <th>Rainfall_mm</th>\n",
       "      <th>Fertilizer_Usage_kg</th>\n",
       "      <th>Pesticide_Usage_kg</th>\n",
       "      <th>Crop_Yield_ton</th>\n",
       "      <th>Sustainability_Score</th>\n",
       "    </tr>\n",
       "  </thead>\n",
       "  <tbody>\n",
       "    <tr>\n",
       "      <th>count</th>\n",
       "      <td>10000.00000</td>\n",
       "      <td>10000.000000</td>\n",
       "      <td>10000.000000</td>\n",
       "      <td>10000.000000</td>\n",
       "      <td>10000.000000</td>\n",
       "      <td>10000.000000</td>\n",
       "      <td>10000.000000</td>\n",
       "      <td>10000.000000</td>\n",
       "      <td>10000.000000</td>\n",
       "    </tr>\n",
       "    <tr>\n",
       "      <th>mean</th>\n",
       "      <td>5000.50000</td>\n",
       "      <td>6.499494</td>\n",
       "      <td>29.988655</td>\n",
       "      <td>25.027475</td>\n",
       "      <td>174.969854</td>\n",
       "      <td>125.212701</td>\n",
       "      <td>10.521074</td>\n",
       "      <td>5.489634</td>\n",
       "      <td>50.213200</td>\n",
       "    </tr>\n",
       "    <tr>\n",
       "      <th>std</th>\n",
       "      <td>2886.89568</td>\n",
       "      <td>0.574181</td>\n",
       "      <td>11.493376</td>\n",
       "      <td>5.769509</td>\n",
       "      <td>72.860989</td>\n",
       "      <td>43.132645</td>\n",
       "      <td>5.535558</td>\n",
       "      <td>2.608809</td>\n",
       "      <td>28.667146</td>\n",
       "    </tr>\n",
       "    <tr>\n",
       "      <th>min</th>\n",
       "      <td>1.00000</td>\n",
       "      <td>5.500021</td>\n",
       "      <td>10.002907</td>\n",
       "      <td>15.000186</td>\n",
       "      <td>50.031967</td>\n",
       "      <td>50.007543</td>\n",
       "      <td>1.001370</td>\n",
       "      <td>1.000323</td>\n",
       "      <td>0.003672</td>\n",
       "    </tr>\n",
       "    <tr>\n",
       "      <th>25%</th>\n",
       "      <td>2500.75000</td>\n",
       "      <td>6.003992</td>\n",
       "      <td>20.027802</td>\n",
       "      <td>20.078612</td>\n",
       "      <td>111.786631</td>\n",
       "      <td>87.945625</td>\n",
       "      <td>5.675684</td>\n",
       "      <td>3.218402</td>\n",
       "      <td>25.974568</td>\n",
       "    </tr>\n",
       "    <tr>\n",
       "      <th>50%</th>\n",
       "      <td>5000.50000</td>\n",
       "      <td>6.495380</td>\n",
       "      <td>29.862527</td>\n",
       "      <td>24.955117</td>\n",
       "      <td>174.468002</td>\n",
       "      <td>125.188012</td>\n",
       "      <td>10.619785</td>\n",
       "      <td>5.490626</td>\n",
       "      <td>50.234210</td>\n",
       "    </tr>\n",
       "    <tr>\n",
       "      <th>75%</th>\n",
       "      <td>7500.25000</td>\n",
       "      <td>6.993481</td>\n",
       "      <td>40.052369</td>\n",
       "      <td>30.053313</td>\n",
       "      <td>237.812507</td>\n",
       "      <td>162.619398</td>\n",
       "      <td>15.330758</td>\n",
       "      <td>7.740585</td>\n",
       "      <td>74.938267</td>\n",
       "    </tr>\n",
       "    <tr>\n",
       "      <th>max</th>\n",
       "      <td>10000.00000</td>\n",
       "      <td>7.499762</td>\n",
       "      <td>49.994713</td>\n",
       "      <td>34.999673</td>\n",
       "      <td>299.986192</td>\n",
       "      <td>199.991631</td>\n",
       "      <td>19.999099</td>\n",
       "      <td>9.999638</td>\n",
       "      <td>99.994545</td>\n",
       "    </tr>\n",
       "  </tbody>\n",
       "</table>\n",
       "</div>"
      ],
      "text/plain": [
       "           Farm_ID       Soil_pH  Soil_Moisture  Temperature_C   Rainfall_mm  \\\n",
       "count  10000.00000  10000.000000   10000.000000   10000.000000  10000.000000   \n",
       "mean    5000.50000      6.499494      29.988655      25.027475    174.969854   \n",
       "std     2886.89568      0.574181      11.493376       5.769509     72.860989   \n",
       "min        1.00000      5.500021      10.002907      15.000186     50.031967   \n",
       "25%     2500.75000      6.003992      20.027802      20.078612    111.786631   \n",
       "50%     5000.50000      6.495380      29.862527      24.955117    174.468002   \n",
       "75%     7500.25000      6.993481      40.052369      30.053313    237.812507   \n",
       "max    10000.00000      7.499762      49.994713      34.999673    299.986192   \n",
       "\n",
       "       Fertilizer_Usage_kg  Pesticide_Usage_kg  Crop_Yield_ton  \\\n",
       "count         10000.000000        10000.000000    10000.000000   \n",
       "mean            125.212701           10.521074        5.489634   \n",
       "std              43.132645            5.535558        2.608809   \n",
       "min              50.007543            1.001370        1.000323   \n",
       "25%              87.945625            5.675684        3.218402   \n",
       "50%             125.188012           10.619785        5.490626   \n",
       "75%             162.619398           15.330758        7.740585   \n",
       "max             199.991631           19.999099        9.999638   \n",
       "\n",
       "       Sustainability_Score  \n",
       "count          10000.000000  \n",
       "mean              50.213200  \n",
       "std               28.667146  \n",
       "min                0.003672  \n",
       "25%               25.974568  \n",
       "50%               50.234210  \n",
       "75%               74.938267  \n",
       "max               99.994545  "
      ]
     },
     "execution_count": 9,
     "metadata": {},
     "output_type": "execute_result"
    }
   ],
   "source": [
    "df.describe() # to get statistical summary of numerical columns"
   ]
  },
  {
   "cell_type": "code",
   "execution_count": 10,
   "id": "590aaf93",
   "metadata": {},
   "outputs": [
    {
     "data": {
      "text/html": [
       "<div>\n",
       "<style scoped>\n",
       "    .dataframe tbody tr th:only-of-type {\n",
       "        vertical-align: middle;\n",
       "    }\n",
       "\n",
       "    .dataframe tbody tr th {\n",
       "        vertical-align: top;\n",
       "    }\n",
       "\n",
       "    .dataframe thead th {\n",
       "        text-align: right;\n",
       "    }\n",
       "</style>\n",
       "<table border=\"1\" class=\"dataframe\">\n",
       "  <thead>\n",
       "    <tr style=\"text-align: right;\">\n",
       "      <th></th>\n",
       "      <th>Crop_Type</th>\n",
       "    </tr>\n",
       "  </thead>\n",
       "  <tbody>\n",
       "    <tr>\n",
       "      <th>count</th>\n",
       "      <td>10000</td>\n",
       "    </tr>\n",
       "    <tr>\n",
       "      <th>unique</th>\n",
       "      <td>4</td>\n",
       "    </tr>\n",
       "    <tr>\n",
       "      <th>top</th>\n",
       "      <td>Soybean</td>\n",
       "    </tr>\n",
       "    <tr>\n",
       "      <th>freq</th>\n",
       "      <td>2559</td>\n",
       "    </tr>\n",
       "  </tbody>\n",
       "</table>\n",
       "</div>"
      ],
      "text/plain": [
       "       Crop_Type\n",
       "count      10000\n",
       "unique         4\n",
       "top      Soybean\n",
       "freq        2559"
      ]
     },
     "execution_count": 10,
     "metadata": {},
     "output_type": "execute_result"
    }
   ],
   "source": [
    "df.describe(include='object') # to get statistical summary of categorical columns"
   ]
  },
  {
   "cell_type": "code",
   "execution_count": 11,
   "id": "c7279733",
   "metadata": {},
   "outputs": [],
   "source": [
    "df = pd.get_dummies(df, drop_first=True) # to convert categorical variables into dummy/indicator variables\n"
   ]
  },
  {
   "cell_type": "code",
   "execution_count": 12,
   "id": "229fa978",
   "metadata": {},
   "outputs": [
    {
     "name": "stdout",
     "output_type": "stream",
     "text": [
      "lower_bound: -47.470981043895364\n",
      "upper_bound: 148.38381590794924\n",
      "Number of outliers in 'Sustainability_Score': 0\n"
     ]
    }
   ],
   "source": [
    "# Compute Q1 and Q3\n",
    "Q1 = df['Sustainability_Score'].quantile(0.25)\n",
    "Q3 = df['Sustainability_Score'].quantile(0.75)\n",
    "IQR = Q3 - Q1\n",
    "\n",
    "# Define outlier boundaries\n",
    "lower_bound = Q1 - 1.5 * IQR\n",
    "upper_bound = Q3 + 1.5 * IQR\n",
    "print('lower_bound:', lower_bound)\n",
    "print('upper_bound:', upper_bound)\n",
    "\n",
    "# Identify outliers\n",
    "outliers = df[(df['Sustainability_Score'] < lower_bound) | (df['Sustainability_Score'] > upper_bound)]\n",
    "print(\"Number of outliers in 'Sustainability_Score':\", outliers.shape[0])"
   ]
  },
  {
   "cell_type": "code",
   "execution_count": null,
   "id": "fa957e28",
   "metadata": {},
   "outputs": [],
   "source": []
  },
  {
   "cell_type": "code",
   "execution_count": null,
   "id": "6b2b60a8",
   "metadata": {},
   "outputs": [],
   "source": []
  }
 ],
 "metadata": {
  "kernelspec": {
   "display_name": "Python 3",
   "language": "python",
   "name": "python3"
  },
  "language_info": {
   "codemirror_mode": {
    "name": "ipython",
    "version": 3
   },
   "file_extension": ".py",
   "mimetype": "text/x-python",
   "name": "python",
   "nbconvert_exporter": "python",
   "pygments_lexer": "ipython3",
   "version": "3.11.4"
  }
 },
 "nbformat": 4,
 "nbformat_minor": 5
}
